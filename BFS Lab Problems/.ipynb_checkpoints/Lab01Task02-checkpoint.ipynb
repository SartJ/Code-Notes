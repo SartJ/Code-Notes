{
 "cells": [
  {
   "cell_type": "code",
   "execution_count": 45,
   "id": "domestic-discipline",
   "metadata": {},
   "outputs": [],
   "source": [
    "import numpy as np\n",
    "import math"
   ]
  },
  {
   "cell_type": "code",
   "execution_count": 46,
   "id": "shaped-milan",
   "metadata": {},
   "outputs": [
    {
     "name": "stdout",
     "output_type": "stream",
     "text": [
      "9\n",
      "12\n"
     ]
    }
   ],
   "source": [
    "with open('data2.txt', 'r') as file:\n",
    "    line1 = file.readline().strip()\n",
    "    vertex_count = int(line1) \n",
    "    line2 = file.readline().strip()\n",
    "    edge_count = int(line2)\n",
    "print(vertex_count)\n",
    "print(edge_count)"
   ]
  },
  {
   "cell_type": "code",
   "execution_count": 47,
   "id": "killing-representation",
   "metadata": {},
   "outputs": [
    {
     "name": "stdout",
     "output_type": "stream",
     "text": [
      "[[0 0 0 0 0 0 0 0 0]\n",
      " [0 0 0 0 0 0 0 0 0]\n",
      " [0 0 0 0 0 0 0 0 0]\n",
      " [0 0 0 0 0 0 0 0 0]\n",
      " [0 0 0 0 0 0 0 0 0]\n",
      " [0 0 0 0 0 0 0 0 0]\n",
      " [0 0 0 0 0 0 0 0 0]\n",
      " [0 0 0 0 0 0 0 0 0]\n",
      " [0 0 0 0 0 0 0 0 0]]\n"
     ]
    }
   ],
   "source": [
    "adj_matrix = np.zeros((vertex_count, vertex_count), dtype='int')\n",
    "print(adj_matrix)"
   ]
  },
  {
   "cell_type": "code",
   "execution_count": 48,
   "id": "mechanical-elder",
   "metadata": {},
   "outputs": [
    {
     "name": "stdout",
     "output_type": "stream",
     "text": [
      "[[0 1 1 1 0 0 0 0 0]\n",
      " [0 0 0 1 1 0 0 0 0]\n",
      " [0 0 0 1 0 0 0 0 0]\n",
      " [0 0 0 0 0 1 0 0 0]\n",
      " [0 0 0 0 0 0 0 1 1]\n",
      " [0 0 0 0 0 0 1 0 0]\n",
      " [0 0 0 0 0 0 0 1 0]\n",
      " [0 0 0 0 0 0 0 0 0]\n",
      " [0 0 0 0 0 0 0 0 0]]\n",
      "7 5 3\n"
     ]
    }
   ],
   "source": [
    "x = 0\n",
    "p = 0\n",
    "q = 0\n",
    "count = edge_count\n",
    "\n",
    "with open('data2.txt', 'r') as file:\n",
    "    content = file.readlines()\n",
    "    for a in content[2:len(content)-4]:\n",
    "        vertices = a.split(' ')\n",
    "        u = int(vertices[0])\n",
    "        v = int(vertices[1])\n",
    "        adj_matrix[u][v] = 1\n",
    "    q = int(content[len(content)-1])\n",
    "    p = int(content[len(content)-2])\n",
    "    x = int(content[len(content)-3])\n",
    "    \n",
    "print(adj_matrix)\n",
    "print(x,p,q)"
   ]
  },
  {
   "cell_type": "code",
   "execution_count": 49,
   "id": "parallel-sample",
   "metadata": {},
   "outputs": [
    {
     "name": "stdout",
     "output_type": "stream",
     "text": [
      "{7: 'Lina', 5: 'Nora', 3: 'Lara'}\n",
      "dict_values(['Lina', 'Nora', 'Lara'])\n",
      "dict_values(['Lina', 'Nora', 'Lara'])\n",
      "<class 'dict_values'>\n"
     ]
    }
   ],
   "source": [
    "thisdict = {\n",
    "    x : \"Lina\",\n",
    "    p : \"Nora\",\n",
    "    q : \"Lara\",\n",
    "}\n",
    "\n",
    "print(thisdict)\n",
    "print(thisdict.values())\n",
    "positions = thisdict.values()\n",
    "print(positions)\n",
    "print(type(positions))"
   ]
  },
  {
   "cell_type": "code",
   "execution_count": 51,
   "id": "behind-adelaide",
   "metadata": {},
   "outputs": [
    {
     "name": "stdout",
     "output_type": "stream",
     "text": [
      "2\n"
     ]
    }
   ],
   "source": [
    "sorter = []\n",
    "def bfs(s):\n",
    "    color = np.empty(vertex_count, dtype = 'object')\n",
    "    color[:] = 'WHITE'\n",
    "    parent = np.empty(vertex_count, dtype = 'object')\n",
    "    parent[:] = np.NaN\n",
    "    d = np.zeros(vertex_count, dtype = 'int')\n",
    "    d[:] = math.inf\n",
    "    from queue import Queue\n",
    "\n",
    "    my_queue = Queue(maxsize = vertex_count)\n",
    "    color[s] = 'GRAY'\n",
    "    parent[s] = np.NaN\n",
    "    d[s] = 0\n",
    "    my_queue.put(s)\n",
    "    while not my_queue.empty():\n",
    "        u = my_queue.get()\n",
    "        for v in range(0, vertex_count):\n",
    "            if adj_matrix[u][v] == 1:\n",
    "                if color[v] == 'WHITE':\n",
    "                    color[v] = 'GRAY'\n",
    "                    d[v] = d[u] + 1\n",
    "                    parent[v] = u\n",
    "                    my_queue.put(v)\n",
    "        color[u] = 'BLACK'\n",
    "        if u == x:\n",
    "            return d[u]\n",
    "        \n",
    "    \n",
    "    \n",
    "\n",
    "nora = bfs(p)\n",
    "lara = bfs(q)\n",
    "if nora < lara:\n",
    "    print(\"Nora\")\n",
    "else:\n",
    "    print(\"Lara\")\n",
    "\n"
   ]
  },
  {
   "cell_type": "code",
   "execution_count": null,
   "id": "bottom-insured",
   "metadata": {},
   "outputs": [],
   "source": []
  },
  {
   "cell_type": "code",
   "execution_count": null,
   "id": "extensive-tucson",
   "metadata": {},
   "outputs": [],
   "source": []
  },
  {
   "cell_type": "code",
   "execution_count": null,
   "id": "wireless-slope",
   "metadata": {},
   "outputs": [],
   "source": []
  },
  {
   "cell_type": "code",
   "execution_count": null,
   "id": "fifty-wisdom",
   "metadata": {},
   "outputs": [],
   "source": []
  },
  {
   "cell_type": "code",
   "execution_count": null,
   "id": "musical-linux",
   "metadata": {},
   "outputs": [],
   "source": []
  },
  {
   "cell_type": "code",
   "execution_count": null,
   "id": "established-tennis",
   "metadata": {},
   "outputs": [],
   "source": []
  }
 ],
 "metadata": {
  "kernelspec": {
   "display_name": "Python 3",
   "language": "python",
   "name": "python3"
  },
  "language_info": {
   "codemirror_mode": {
    "name": "ipython",
    "version": 3
   },
   "file_extension": ".py",
   "mimetype": "text/x-python",
   "name": "python",
   "nbconvert_exporter": "python",
   "pygments_lexer": "ipython3",
   "version": "3.8.2"
  }
 },
 "nbformat": 4,
 "nbformat_minor": 5
}
