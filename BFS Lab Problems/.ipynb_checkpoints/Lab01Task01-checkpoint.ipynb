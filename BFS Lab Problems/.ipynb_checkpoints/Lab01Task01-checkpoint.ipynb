{
 "cells": [
  {
   "cell_type": "code",
   "execution_count": 166,
   "id": "conscious-september",
   "metadata": {},
   "outputs": [],
   "source": [
    "import numpy as np\n",
    "import math"
   ]
  },
  {
   "cell_type": "code",
   "execution_count": 167,
   "id": "welsh-washer",
   "metadata": {},
   "outputs": [
    {
     "name": "stdout",
     "output_type": "stream",
     "text": [
      "10\n",
      "13\n"
     ]
    }
   ],
   "source": [
    "#read the first line to get the vertex count, second line to get the edge count :-\n",
    "with open('data.txt', 'r') as file:\n",
    "    line1 = file.readline().strip()\n",
    "    vertex_count = int(line1) + 1\n",
    "    line2 = file.readline().strip()\n",
    "    edge_count = int(line2)\n",
    "print(vertex_count)\n",
    "print(edge_count)"
   ]
  },
  {
   "cell_type": "code",
   "execution_count": 168,
   "id": "standard-lambda",
   "metadata": {},
   "outputs": [
    {
     "name": "stdout",
     "output_type": "stream",
     "text": [
      "[[0 0 0 0 0 0 0 0 0 0]\n",
      " [0 0 0 0 0 0 0 0 0 0]\n",
      " [0 0 0 0 0 0 0 0 0 0]\n",
      " [0 0 0 0 0 0 0 0 0 0]\n",
      " [0 0 0 0 0 0 0 0 0 0]\n",
      " [0 0 0 0 0 0 0 0 0 0]\n",
      " [0 0 0 0 0 0 0 0 0 0]\n",
      " [0 0 0 0 0 0 0 0 0 0]\n",
      " [0 0 0 0 0 0 0 0 0 0]\n",
      " [0 0 0 0 0 0 0 0 0 0]]\n"
     ]
    }
   ],
   "source": [
    "#create an adjacency matrix\n",
    "adj_matrix = np.zeros((vertex_count, vertex_count), dtype='int')\n",
    "print(adj_matrix)"
   ]
  },
  {
   "cell_type": "code",
   "execution_count": 169,
   "id": "brutal-hearing",
   "metadata": {},
   "outputs": [
    {
     "name": "stdout",
     "output_type": "stream",
     "text": [
      "[[0 1 1 1 0 0 0 0 0 0]\n",
      " [0 0 0 1 1 0 0 0 0 0]\n",
      " [0 0 0 1 0 0 0 0 0 0]\n",
      " [0 0 0 0 0 1 1 0 0 0]\n",
      " [0 0 0 0 0 0 0 1 1 0]\n",
      " [0 0 0 0 0 0 1 0 0 0]\n",
      " [0 0 0 0 0 0 0 1 0 0]\n",
      " [0 0 0 0 0 0 0 0 1 0]\n",
      " [0 0 0 0 0 0 0 0 0 0]\n",
      " [0 0 0 0 0 0 0 0 0 0]]\n",
      "6\n"
     ]
    }
   ],
   "source": [
    "lina_pos = 0\n",
    "count = edge_count\n",
    "\n",
    "with open('data.txt', 'r') as file:\n",
    "    content = file.readlines()\n",
    "    for a in content[2:len(content)-1]:\n",
    "        vertices = a.split(' ')\n",
    "        u = int(vertices[0])\n",
    "        v = int(vertices[1])\n",
    "        adj_matrix[u][v] = 1\n",
    "        \n",
    "    lina_pos = int(content[len(content)-1])\n",
    "    \n",
    "print(adj_matrix)\n",
    "print(lina_pos)"
   ]
  },
  {
   "cell_type": "code",
   "execution_count": 170,
   "id": "advanced-indian",
   "metadata": {},
   "outputs": [],
   "source": [
    "color = np.empty(vertex_count, dtype = 'object')\n",
    "color[:] = 'WHITE'"
   ]
  },
  {
   "cell_type": "code",
   "execution_count": 171,
   "id": "rapid-intersection",
   "metadata": {},
   "outputs": [],
   "source": [
    "parent = np.empty(vertex_count, dtype = 'object')\n",
    "parent[:] = np.NaN"
   ]
  },
  {
   "cell_type": "code",
   "execution_count": 172,
   "id": "increasing-annex",
   "metadata": {},
   "outputs": [],
   "source": [
    "d = np.zeros(vertex_count, dtype = 'int')\n",
    "d[:] = math.inf"
   ]
  },
  {
   "cell_type": "code",
   "execution_count": 173,
   "id": "weekly-parent",
   "metadata": {},
   "outputs": [],
   "source": [
    "from queue import Queue\n",
    "\n",
    "my_queue = Queue(maxsize = vertex_count)"
   ]
  },
  {
   "cell_type": "code",
   "execution_count": 174,
   "id": "liquid-broadcasting",
   "metadata": {},
   "outputs": [
    {
     "name": "stdout",
     "output_type": "stream",
     "text": [
      "2\n"
     ]
    }
   ],
   "source": [
    "def bfs(s):\n",
    "    color[s] = 'GRAY'\n",
    "    parent[s] = np.NaN\n",
    "    d[s] = 0\n",
    "    my_queue.put(s)\n",
    "    while not my_queue.empty():\n",
    "        u = my_queue.get()\n",
    "        for v in range(0, vertex_count):\n",
    "            if adj_matrix[u][v] == 1:\n",
    "                if color[v] == 'WHITE':\n",
    "                    color[v] = 'GRAY'\n",
    "                    d[v] = d[u] + 1\n",
    "                    parent[v] = u\n",
    "                    my_queue.put(v)\n",
    "        color[u] = 'BLACK'\n",
    "        if u == lina_pos:\n",
    "            print(str(d[u]))\n",
    "    return\n",
    "\n",
    "bfs(0)"
   ]
  },
  {
   "cell_type": "code",
   "execution_count": null,
   "id": "freelance-romance",
   "metadata": {},
   "outputs": [],
   "source": []
  },
  {
   "cell_type": "code",
   "execution_count": null,
   "id": "arctic-distribution",
   "metadata": {},
   "outputs": [],
   "source": []
  },
  {
   "cell_type": "code",
   "execution_count": null,
   "id": "greatest-edwards",
   "metadata": {},
   "outputs": [],
   "source": []
  }
 ],
 "metadata": {
  "kernelspec": {
   "display_name": "Python 3",
   "language": "python",
   "name": "python3"
  },
  "language_info": {
   "codemirror_mode": {
    "name": "ipython",
    "version": 3
   },
   "file_extension": ".py",
   "mimetype": "text/x-python",
   "name": "python",
   "nbconvert_exporter": "python",
   "pygments_lexer": "ipython3",
   "version": "3.8.2"
  }
 },
 "nbformat": 4,
 "nbformat_minor": 5
}
