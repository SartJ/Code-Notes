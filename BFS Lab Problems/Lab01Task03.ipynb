{
 "cells": [
  {
   "cell_type": "code",
   "execution_count": 11,
   "id": "mighty-demonstration",
   "metadata": {},
   "outputs": [],
   "source": [
    "import numpy as np\n",
    "import math\n",
    "\n",
    "with open('data3.txt', 'r') as file:\n",
    "    line1 = file.readline().strip()\n",
    "    vertex_count = int(line1) \n",
    "    line2 = file.readline().strip()\n",
    "    edge_count = int(line2)\n",
    "# print(vertex_count)\n",
    "# print(edge_count)\n",
    "\n"
   ]
  },
  {
   "cell_type": "code",
   "execution_count": 24,
   "id": "measured-infrared",
   "metadata": {},
   "outputs": [
    {
     "name": "stdout",
     "output_type": "stream",
     "text": [
      "[0, 1, 3, 5, 7]\n"
     ]
    }
   ],
   "source": [
    "adj_matrix = np.zeros((vertex_count, vertex_count), dtype='int')\n",
    "#print(adj_matrix)\n",
    "\n",
    "x = 0\n",
    "p = 0\n",
    "q = 0\n",
    "count = edge_count\n",
    "\n",
    "karray = []\n",
    "with open('data3.txt', 'r') as file:\n",
    "    content = file.readlines()\n",
    "    for a in content[2:len(content)-7]:\n",
    "        vertices = a.split(' ')\n",
    "        u = int(vertices[0])\n",
    "        v = int(vertices[1])\n",
    "        adj_matrix[v][u] = 1\n",
    "    k = int(content[len(content)-6])\n",
    "    x = int(content[len(content)-7])\n",
    "\n",
    "    for i in range(0,k):\n",
    "        karray.append(int(content[len(content)-1-i]))\n",
    "karray.reverse()    \n",
    "print(karray)   \n",
    "# print(adj_matrix)\n",
    "# print(x, k, k1, k2, k3, k4, k5)"
   ]
  },
  {
   "cell_type": "code",
   "execution_count": 31,
   "id": "human-royalty",
   "metadata": {},
   "outputs": [
    {
     "name": "stdout",
     "output_type": "stream",
     "text": [
      "[0, 1, 1, 2, 2, 2, 3, 3, 4, 4]\n",
      "[9, 6, 8, 5, 4, 7, 3, 1, 0, 2]\n"
     ]
    }
   ],
   "source": [
    "darray = []\n",
    "parray = []\n",
    "def bfs(s):\n",
    "    color = np.empty(vertex_count, dtype = 'object')\n",
    "    color[:] = 'WHITE'\n",
    "    parent = np.empty(vertex_count, dtype = 'object')\n",
    "    parent[:] = np.NaN\n",
    "    d = np.zeros(vertex_count, dtype = 'int')\n",
    "    d[:] = math.inf\n",
    "    from queue import Queue\n",
    "\n",
    "    my_queue = Queue(maxsize = vertex_count)\n",
    "    color[s] = 'GRAY'\n",
    "    parent[s] = np.NaN\n",
    "    d[s] = 0\n",
    "    my_queue.put(s)\n",
    "    while not my_queue.empty():\n",
    "        u = my_queue.get()\n",
    "        for v in range(0, vertex_count):\n",
    "            if adj_matrix[u][v] == 1:\n",
    "                if color[v] == 'WHITE':\n",
    "                    color[v] = 'GRAY'\n",
    "                    d[v] = d[u] + 1\n",
    "                    parent[v] = u\n",
    "                    my_queue.put(v)\n",
    "        color[u] = 'BLACK'\n",
    "        \n",
    "        darray.append(d[u])\n",
    "        parray.append(u)\n",
    "\n",
    "bfs(x)\n",
    "print(darray)\n",
    "print(parray)"
   ]
  },
  {
   "cell_type": "code",
   "execution_count": 34,
   "id": "minimal-jimmy",
   "metadata": {},
   "outputs": [
    {
     "ename": "AttributeError",
     "evalue": "'list' object has no attribute 'min'",
     "output_type": "error",
     "traceback": [
      "\u001b[1;31m---------------------------------------------------------------------------\u001b[0m",
      "\u001b[1;31mAttributeError\u001b[0m                            Traceback (most recent call last)",
      "\u001b[1;32m<ipython-input-34-5623eacae9c4>\u001b[0m in \u001b[0;36m<module>\u001b[1;34m\u001b[0m\n\u001b[0;32m      4\u001b[0m \u001b[1;32mfor\u001b[0m \u001b[0ma\u001b[0m \u001b[1;32min\u001b[0m \u001b[0mkarray\u001b[0m\u001b[1;33m:\u001b[0m\u001b[1;33m\u001b[0m\u001b[1;33m\u001b[0m\u001b[0m\n\u001b[0;32m      5\u001b[0m     \u001b[0mparray2\u001b[0m\u001b[1;33m.\u001b[0m\u001b[0mappend\u001b[0m\u001b[1;33m(\u001b[0m\u001b[0mdicto\u001b[0m\u001b[1;33m[\u001b[0m\u001b[0ma\u001b[0m\u001b[1;33m]\u001b[0m\u001b[1;33m)\u001b[0m\u001b[1;33m\u001b[0m\u001b[1;33m\u001b[0m\u001b[0m\n\u001b[1;32m----> 6\u001b[1;33m \u001b[0mprint\u001b[0m\u001b[1;33m(\u001b[0m\u001b[0mparray2\u001b[0m\u001b[1;33m.\u001b[0m\u001b[0mmin\u001b[0m\u001b[1;33m(\u001b[0m\u001b[1;33m)\u001b[0m\u001b[1;33m)\u001b[0m\u001b[1;33m\u001b[0m\u001b[1;33m\u001b[0m\u001b[0m\n\u001b[0m",
      "\u001b[1;31mAttributeError\u001b[0m: 'list' object has no attribute 'min'"
     ]
    }
   ],
   "source": [
    "dicto = dict(zip(parray, darray))\n",
    "# print(dicto)\n",
    "parray2 = []\n",
    "for a in karray:\n",
    "    parray2.append(dicto[a])\n",
    "print(min(parray2))"
   ]
  }
 ],
 "metadata": {
  "kernelspec": {
   "display_name": "Python 3",
   "language": "python",
   "name": "python3"
  },
  "language_info": {
   "codemirror_mode": {
    "name": "ipython",
    "version": 3
   },
   "file_extension": ".py",
   "mimetype": "text/x-python",
   "name": "python",
   "nbconvert_exporter": "python",
   "pygments_lexer": "ipython3",
   "version": "3.8.2"
  }
 },
 "nbformat": 4,
 "nbformat_minor": 5
}
