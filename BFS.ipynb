{
 "cells": [
  {
   "cell_type": "code",
   "execution_count": 17,
   "id": "threatened-thursday",
   "metadata": {},
   "outputs": [],
   "source": [
    "import numpy as np\n",
    "import math\n",
    "file = open(\"bfsdata.txt\", \"r\")"
   ]
  },
  {
   "cell_type": "code",
   "execution_count": 18,
   "id": "emotional-gambling",
   "metadata": {},
   "outputs": [],
   "source": [
    "#read the first line to get the vertex count :-\n",
    "line1 = file.readline().strip()\n",
    "vertex_count = int(line1) + 1"
   ]
  },
  {
   "cell_type": "code",
   "execution_count": 19,
   "id": "great-august",
   "metadata": {},
   "outputs": [
    {
     "name": "stdout",
     "output_type": "stream",
     "text": [
      "[[0 0 0 0 0 0 0]\n",
      " [0 0 0 0 0 0 0]\n",
      " [0 0 0 0 0 0 0]\n",
      " [0 0 0 0 0 0 0]\n",
      " [0 0 0 0 0 0 0]\n",
      " [0 0 0 0 0 0 0]\n",
      " [0 0 0 0 0 0 0]]\n"
     ]
    }
   ],
   "source": [
    "#create an adjacency matrix\n",
    "adj_matrix = np.zeros((vertex_count, vertex_count), dtype='int')\n",
    "print(adj_matrix)"
   ]
  },
  {
   "cell_type": "code",
   "execution_count": 20,
   "id": "professional-boxing",
   "metadata": {},
   "outputs": [
    {
     "name": "stdout",
     "output_type": "stream",
     "text": [
      "[[0 0 0 0 0 0 0]\n",
      " [0 0 1 1 0 0 0]\n",
      " [0 1 0 0 1 1 0]\n",
      " [0 1 0 0 0 1 0]\n",
      " [0 0 1 0 0 1 1]\n",
      " [0 0 1 1 1 0 1]\n",
      " [0 0 0 0 1 1 0]]\n"
     ]
    }
   ],
   "source": [
    "while True:\n",
    "    line = file.readline().strip()\n",
    "    if not line:\n",
    "        break\n",
    "    vertices = line.split(' ')\n",
    "    u = int(vertices[0])\n",
    "    v = int(vertices[1])\n",
    "    adj_matrix[u][v] = 1\n",
    "print(adj_matrix)"
   ]
  },
  {
   "cell_type": "code",
   "execution_count": 11,
   "id": "unauthorized-quilt",
   "metadata": {},
   "outputs": [],
   "source": [
    "color = np.empty(vertex_count, dtype = 'object')\n",
    "color[:] = 'WHITE'"
   ]
  },
  {
   "cell_type": "code",
   "execution_count": 12,
   "id": "continuing-gothic",
   "metadata": {},
   "outputs": [],
   "source": [
    "parent = np.empty(vertex_count, dtype = 'object')\n",
    "parent[:] = np.NaN"
   ]
  },
  {
   "cell_type": "code",
   "execution_count": 13,
   "id": "entertaining-canada",
   "metadata": {},
   "outputs": [],
   "source": [
    "d = np.zeros(vertex_count, dtype = 'int')\n",
    "d[:] = math.inf"
   ]
  },
  {
   "cell_type": "code",
   "execution_count": 15,
   "id": "arabic-objective",
   "metadata": {},
   "outputs": [],
   "source": [
    "from queue import Queue\n",
    "\n",
    "my_queue = Queue(maxsize = vertex_count)"
   ]
  },
  {
   "cell_type": "code",
   "execution_count": 16,
   "id": "infinite-mineral",
   "metadata": {},
   "outputs": [
    {
     "name": "stdout",
     "output_type": "stream",
     "text": [
      "1 distance 0\n",
      "2 distance 1\n",
      "3 distance 1\n",
      "4 distance 2\n",
      "5 distance 2\n",
      "6 distance 3\n"
     ]
    }
   ],
   "source": [
    "def bfs(s):\n",
    "    color[s] = 'GRAY'\n",
    "    parent[s] = np.NaN\n",
    "    d[s] = 0\n",
    "    my_queue.put(s)\n",
    "    while not my_queue.empty():\n",
    "        u = my_queue.get()\n",
    "        for v in range(1, vertex_count):\n",
    "            if adj_matrix[u][v] == 1:\n",
    "                if color[v] == 'WHITE':\n",
    "                    color[v] = 'GRAY'\n",
    "                    d[v] = d[u] + 1\n",
    "                    parent[v] = u\n",
    "                    my_queue.put(v)\n",
    "        color[u] = 'BLACK'\n",
    "        print(str(u) + ' distance ' + str(d[u]))\n",
    "    return\n",
    "\n",
    "bfs(1)"
   ]
  }
 ],
 "metadata": {
  "kernelspec": {
   "display_name": "Python 3",
   "language": "python",
   "name": "python3"
  },
  "language_info": {
   "codemirror_mode": {
    "name": "ipython",
    "version": 3
   },
   "file_extension": ".py",
   "mimetype": "text/x-python",
   "name": "python",
   "nbconvert_exporter": "python",
   "pygments_lexer": "ipython3",
   "version": "3.8.2"
  }
 },
 "nbformat": 4,
 "nbformat_minor": 5
}
